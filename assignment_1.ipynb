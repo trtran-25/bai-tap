{
 "cells": [
  {
   "cell_type": "code",
   "execution_count": 1,
   "id": "7ae2c1d2",
   "metadata": {},
   "outputs": [
    {
     "name": "stdout",
     "output_type": "stream",
     "text": [
      "Hello World!\n"
     ]
    }
   ],
   "source": [
    "#bai 1\n",
    "print(\"Hello World!\")"
   ]
  },
  {
   "cell_type": "code",
   "execution_count": null,
   "id": "2f5d9fff",
   "metadata": {},
   "outputs": [],
   "source": [
    "#bai 2\n",
    "user_name = input(\"Bạn tên là gì? \")\n",
    "print(f\"xin chào {user_name}\")"
   ]
  },
  {
   "cell_type": "code",
   "execution_count": null,
   "id": "5c6722e7",
   "metadata": {},
   "outputs": [],
   "source": [
    "#bai 10\n",
    "a, b, c = input(\"tên 3 người bạn : \").split()\n",
    "print(f\"Hi, {c}, {b}, {a}\")"
   ]
  },
  {
   "cell_type": "code",
   "execution_count": null,
   "id": "04e8dd95",
   "metadata": {},
   "outputs": [],
   "source": [
    "#bai 16\n",
    "print(\"Spring\\nSummer\\nAutumn\\nWinter\")"
   ]
  },
  {
   "cell_type": "code",
   "execution_count": null,
   "id": "4d2950b4",
   "metadata": {},
   "outputs": [],
   "source": [
    "#bai 17\n",
    "print(\"*\")\n",
    "print(\"***\")\n",
    "print(\"*****\")"
   ]
  },
  {
   "cell_type": "code",
   "execution_count": null,
   "id": "3c604dfd",
   "metadata": {},
   "outputs": [],
   "source": [
    "#bai 18\n",
    "print(\"### ##  ###  ###\")\n",
    "print(\" #  # #  #    #\")\n",
    "print(\" #  #  # #    #\")\n",
    "print(\" #  # #  #    #\")\n",
    "print(\" #  ##   #    #\")"
   ]
  },
  {
   "cell_type": "code",
   "execution_count": null,
   "id": "8c47f2fb",
   "metadata": {},
   "outputs": [],
   "source": [
    "#bai 19\n",
    "print(\"Monday\\nTuesday\\nWednesday\\nThursday\\nFriday\\nSaturday\\nSunday\")"
   ]
  },
  {
   "cell_type": "code",
   "execution_count": null,
   "id": "2afe9d54",
   "metadata": {},
   "outputs": [],
   "source": [
    "#bai 20\n",
    "import calendar\n",
    "print(\"\\n\".join(calendar.month_name[1:13]))"
   ]
  },
  {
   "cell_type": "code",
   "execution_count": null,
   "id": "f831c481",
   "metadata": {},
   "outputs": [],
   "source": [
    "#bai 21\n",
    "for cường_thông_minh in range(10):\n",
    "    print(\"hello world\")"
   ]
  }
 ],
 "metadata": {
  "kernelspec": {
   "display_name": "Python 3",
   "language": "python",
   "name": "python3"
  },
  "language_info": {
   "codemirror_mode": {
    "name": "ipython",
    "version": 3
   },
   "file_extension": ".py",
   "mimetype": "text/x-python",
   "name": "python",
   "nbconvert_exporter": "python",
   "pygments_lexer": "ipython3",
   "version": "3.13.7"
  }
 },
 "nbformat": 4,
 "nbformat_minor": 5
}
