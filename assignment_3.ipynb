{
 "cells": [
  {
   "cell_type": "code",
   "execution_count": null,
   "id": "3463ddbd",
   "metadata": {},
   "outputs": [],
   "source": [
    "#bài 1\n",
    "n = int(input(\"Nhập số nguyên n: \"))\n",
    "print(int(str(n)[::-1]))"
   ]
  },
  {
   "cell_type": "code",
   "execution_count": null,
   "id": "858b742b",
   "metadata": {},
   "outputs": [],
   "source": [
    "#bài 2\n",
    "a, b = map(int, input(\"Nhập 2 số: \").split())\n",
    "a = a ^ b\n",
    "b = a ^ b\n",
    "a = a ^ b\n",
    "print(a, b)"
   ]
  },
  {
   "cell_type": "code",
   "execution_count": null,
   "id": "7a44ad9e",
   "metadata": {},
   "outputs": [],
   "source": [
    "#bài 3\n",
    "n = int(input(\"Nhập số n: \"))\n",
    "if n > 0 and (n & (n - 1)) == 0:\n",
    "    print(\"True\")\n",
    "else:\n",
    "    print(\"False\")"
   ]
  },
  {
   "cell_type": "code",
   "execution_count": null,
   "id": "d9002a2c",
   "metadata": {},
   "outputs": [],
   "source": [
    "#bài 4\n",
    "m, n = map(int, input(\"Nhập m và n: \").split())\n",
    "print(m // n)"
   ]
  },
  {
   "cell_type": "code",
   "execution_count": null,
   "id": "2b8ba0ed",
   "metadata": {},
   "outputs": [],
   "source": [
    "#bài 5\n",
    "m, n = map(int, input(\"Nhập m và n: \").split())\n",
    "print(-(-m // n))"
   ]
  },
  {
   "cell_type": "code",
   "execution_count": null,
   "id": "5e492260",
   "metadata": {},
   "outputs": [],
   "source": [
    "#bài 6\n",
    "x = int(input(\"Nhập số x: \"))\n",
    "print(\"Even\" if x % 2 == 0 else \"Odd\")"
   ]
  },
  {
   "cell_type": "code",
   "execution_count": null,
   "id": "e277deab",
   "metadata": {},
   "outputs": [],
   "source": [
    "#bài 7\n",
    "a, b = map(int, input(\"Nhập a và b: \").split())\n",
    "print(\"Yes\" if a < 0 and b < 0 else \"No\")"
   ]
  },
  {
   "cell_type": "code",
   "execution_count": null,
   "id": "2207da84",
   "metadata": {},
   "outputs": [],
   "source": [
    "#bài 8\n",
    "a = input(\"Nhập chuỗi a: \")\n",
    "b = input(\"Nhập chuỗi b: \")\n",
    "print(\"True\" if len(a) > len(b) else \"False\")"
   ]
  },
  {
   "cell_type": "code",
   "execution_count": null,
   "id": "e45a3837",
   "metadata": {},
   "outputs": [],
   "source": [
    "#bài 9\n",
    "a, b, c = map(int, input(\"Nhập 3 cạnh: \").split())\n",
    "if a + b > c and a + c > b and b + c > a:\n",
    "    print(\"Yes\")\n",
    "else:\n",
    "    print(\"No\")"
   ]
  },
  {
   "cell_type": "code",
   "execution_count": null,
   "id": "f0f2287e",
   "metadata": {},
   "outputs": [],
   "source": [
    "#bài 10\n",
    "a, b, c, d = map(int, input(\"Nhập 4 số: \").split())\n",
    "print(max(a, b, c, d))"
   ]
  },
  {
   "cell_type": "code",
   "execution_count": null,
   "id": "51c7e4b8",
   "metadata": {},
   "outputs": [],
   "source": [
    "#bài 11\n",
    "a, b, c = map(int, input(\"Nhập 3 cạnh: \").split())\n",
    "\n",
    "if a + b <= c or a + c <= b or b + c <= a or a <= 0 or b <= 0 or c <= 0:\n",
    "    print(\"Không phải tam giác\")\n",
    "elif a == b == c:\n",
    "    print(\"Tam giác đều\")\n",
    "elif a == b or b == c or a == c:\n",
    "    print(\"Tam giác cân\")\n",
    "else:\n",
    "    print(\"Tam giác thường\")"
   ]
  },
  {
   "cell_type": "code",
   "execution_count": null,
   "id": "9574b88b",
   "metadata": {},
   "outputs": [],
   "source": [
    "#bài 12\n",
    "n = int(input(\"Nhập năm: \"))\n",
    "if (n % 400 == 0) or (n % 4 == 0 and n % 100 != 0):\n",
    "    print(\"Yes\")\n",
    "else:\n",
    "    print(\"No\")"
   ]
  },
  {
   "cell_type": "code",
   "execution_count": null,
   "id": "b066e601",
   "metadata": {},
   "outputs": [],
   "source": [
    "#bài 13\n",
    "kwh = int(input(\"Nhập số kWh: \"))\n",
    "\n",
    "if kwh <= 50:\n",
    "    tien_dien = kwh * 1500\n",
    "elif kwh <= 100:\n",
    "    tien_dien = 50 * 1500 + (kwh - 50) * 2000\n",
    "else:\n",
    "    tien_dien = 50 * 1500 + 50 * 2000 + (kwh - 100) * 3000\n",
    "\n",
    "print(tien_dien)"
   ]
  },
  {
   "cell_type": "code",
   "execution_count": null,
   "id": "958dbc22",
   "metadata": {},
   "outputs": [],
   "source": [
    "#bài 14\n",
    "a = float(input(\"Nhập a: \"))\n",
    "b = float(input(\"Nhập b: \"))\n",
    "\n",
    "if a == 0:\n",
    "    if b == 0:\n",
    "        print(\"Vô số nghiệm\")\n",
    "    else:\n",
    "        print(\"Vô nghiệm\")\n",
    "else:\n",
    "    x = -b / a\n",
    "    print(round(x, 2))"
   ]
  },
  {
   "cell_type": "code",
   "execution_count": null,
   "id": "93d08131",
   "metadata": {},
   "outputs": [],
   "source": [
    "#bài 15\n",
    "score = float(input(\"Nhập điểm: \"))\n",
    "\n",
    "if score >= 8.0:\n",
    "    print(\"Giỏi\")\n",
    "elif score >= 6.5:\n",
    "    print(\"Khá\")\n",
    "elif score >= 5.0:\n",
    "    print(\"Trung bình\")\n",
    "else:\n",
    "    print(\"Yếu\")"
   ]
  },
  {
   "cell_type": "code",
   "execution_count": null,
   "id": "981f90c5",
   "metadata": {},
   "outputs": [],
   "source": [
    "#bài 16\n",
    "import math\n",
    "\n",
    "x = float(input(\"Nhập số thực: \"))\n",
    "\n",
    "ltx = math.floor(x)\n",
    "ltl = math.ceil(x)\n",
    "gn = round(x)\n",
    "\n",
    "print(ltx, ltl, gn)\n"
   ]
  }
 ],
 "metadata": {
  "language_info": {
   "name": "python"
  }
 },
 "nbformat": 4,
 "nbformat_minor": 5
}
